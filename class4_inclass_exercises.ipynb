{
 "cells": [
  {
   "cell_type": "code",
   "execution_count": 4,
   "metadata": {},
   "outputs": [
    {
     "name": "stdout",
     "output_type": "stream",
     "text": [
      "['Some String', 0, 5.7, False, datetime.datetime(2024, 3, 6, 18, 20, 52, 569601)]\n",
      "[<class 'str'>, <class 'int'>, <class 'float'>, <class 'bool'>, <class 'datetime.datetime'>]\n",
      "['__add__', '__class__', '__class_getitem__', '__contains__', '__delattr__', '__delitem__', '__dir__', '__doc__', '__eq__', '__format__', '__ge__', '__getattribute__', '__getitem__', '__getstate__', '__gt__', '__hash__', '__iadd__', '__imul__', '__init__', '__init_subclass__', '__iter__', '__le__', '__len__', '__lt__', '__mul__', '__ne__', '__new__', '__reduce__', '__reduce_ex__', '__repr__', '__reversed__', '__rmul__', '__setattr__', '__setitem__', '__sizeof__', '__str__', '__subclasshook__', 'append', 'clear', 'copy', 'count', 'extend', 'index', 'insert', 'pop', 'remove', 'reverse', 'sort']\n"
     ]
    }
   ],
   "source": [
    "#Write some code that takes one list and creates a second list with the type for each entry. Hint: Use the type() function and a for loop.\n",
    "import datetime\n",
    "\n",
    "lstData = [\"Some String\", 0, 5.7, False, datetime.datetime.now()]\n",
    "lstTypes = [type(x) for x in lstData]\n",
    "\n",
    "print(lstData)\n",
    "print(lstTypes)"
   ]
  },
  {
   "cell_type": "code",
   "execution_count": 6,
   "metadata": {},
   "outputs": [
    {
     "name": "stdout",
     "output_type": "stream",
     "text": [
      "{'Make': 'Honda', 'Model': 'Pilot', 'Trim': 'Touring'}\n"
     ]
    }
   ],
   "source": [
    "#Write some code that takes two lists and converts them into one dictionary\n",
    "lstKeys = [\"Make\", \"Model\", \"Trim\"]\n",
    "lstValues = [\"Honda\", \"Pilot\", \"Touring\"]\n",
    "\n",
    "dictPairs = {}\n",
    "\n",
    "# Ensure the lists are equally-sized, otherwise they can't be paired\n",
    "if(len(lstKeys)==len(lstValues)):\n",
    "    for i in range(len(lstKeys)):\n",
    "        dictPairs[lstKeys[i]] = lstValues[i]\n",
    "else:\n",
    "    print(\"Lists are not the same size, can't combine\")\n",
    "\n",
    "print(dictPairs)"
   ]
  },
  {
   "cell_type": "code",
   "execution_count": 10,
   "metadata": {},
   "outputs": [
    {
     "name": "stdout",
     "output_type": "stream",
     "text": [
      "{'Make': 'Honda', 'Model': 'Pilot', 'Trim': 'Touring'}\n"
     ]
    }
   ],
   "source": [
    "#Write some code that takes two lists and converts them into one dictionary\n",
    "lstKeys = [\"Make\", \"Model\", \"Trim\"]\n",
    "lstValues = [\"Honda\", \"Pilot\", \"Touring\"]\n",
    "\n",
    "dictPairs = {keys:values for keys, values in zip(lstKeys, lstValues)}\n",
    "# No need to handle different lengths - zip stops when it reaches the end of the shortest list\n",
    "\n",
    "print(dictPairs)"
   ]
  },
  {
   "cell_type": "code",
   "execution_count": 11,
   "metadata": {},
   "outputs": [
    {
     "name": "stdout",
     "output_type": "stream",
     "text": [
      "{'Make': 'Honda', 'Model': 'Pilot', 'Year': '2024', 'Doors': 4, 'Cylinders': 6}\n"
     ]
    }
   ],
   "source": [
    "#Create a dictionary for an automobile - include make, model, year, number of doors, number of cylinders\n",
    "dictCar = {\n",
    "    \"Make\": \"Honda\",\n",
    "    \"Model\": \"Pilot\",\n",
    "    \"Year\": \"2024\",\n",
    "    \"Doors\": 4,\n",
    "    \"Cylinders\": 6\n",
    "}\n",
    "\n",
    "print(dictCar)"
   ]
  },
  {
   "cell_type": "code",
   "execution_count": 18,
   "metadata": {},
   "outputs": [],
   "source": [
    "import json\n",
    "\n",
    "#Get from the user 5 students' names and 5 grades for each name.\n",
    "#Save the information in a dictionary.\n",
    "dictGrades = {}\n",
    "\n",
    "for i in range(5):\n",
    "    name = input(\"Enter student's name: \")\n",
    "    gradeprompt = \"Enter a grade for student \" + name + \": \"\n",
    "    grade = input(gradeprompt)\n",
    "\n",
    "    dictGrades[name] = grade\n",
    "\n",
    "#Write the dictionary into a file so that another program can read it in at a later date.\n",
    "with open(\"../Data/class4_filewrite.txt\", \"a\") as f:\n",
    "    json.dump(dictGrades, f)\n"
   ]
  },
  {
   "cell_type": "code",
   "execution_count": 20,
   "metadata": {},
   "outputs": [
    {
     "name": "stdout",
     "output_type": "stream",
     "text": [
      "{'Chris': '100', 'Bryan': '100', 'Paul': '100', 'John': '100', 'Jeremy': '100'}\n"
     ]
    }
   ],
   "source": [
    "print(dictGrades)"
   ]
  },
  {
   "cell_type": "code",
   "execution_count": 7,
   "metadata": {},
   "outputs": [
    {
     "name": "stdout",
     "output_type": "stream",
     "text": [
      "dict_items([('Muffin Hinge - 211n', 1142.64), ('Mushroom - Crimini', 377.84), ('Sauce - Sesame Thai Dressing', 3332.98), ('Oil - Shortening - All - Purpose', 1858.5), ('\"Soup - Campbells', 72.62), ('Urban Zen Drinks', 114.1), ('Onions - Red', 1844.5), ('Cream - 10%', 464.13), ('Sultanas', 4050.0), ('Wine - Chenin Blanc K.w.v.', 2141.02), ('Chutney Sauce - Mango', 2229.44), ('Cafe Royale', 311.22), ('Banana Turning', 6208.44), ('Wine - Conde De Valdemar', 2316.48), ('Flour - Rye', 2364.56), ('Bread Foccacia Whole', 300.24), ('\"Water - Mineral', 90.56), ('\"Apple - Delicious', 67.73), ('Onions Granulated', 6152.73), ('\"Beer - Alexander Kieths', 76.79), ('Trueblue - Blueberry', 4235.3), ('Poppy Seed', 4081.7), ('Pasta - Cheese / Spinach Bauletti', 9102.84), ('Bread - Olive', 774.52), ('Ice Cream Bar - Oreo Sandwich', 656.88), ('\"Shrimp - 16/20', 16.0), ('Veal - Nuckle', 4462.76), ('Chocolate - Mi - Amere Semi', 137.28), ('Sour Puss - Tangerine', 2880.5), ('Yogurt - French Vanilla', 142.34), ('Absolut Citron', 2534.4), ('Sesame Seed', 67.74), ('Cookie - Oreo 100x2', 2058.42), ('Energy - Boo - Koo', 992.88), ('\"Beef - Rib Roast', 77.03), ('Dehydrated Kelp Kombo', 51.15), ('Phyllo Dough', 743.61), ('Soup - Tomato Mush. Florentine', 7773.22), ('Cornish Hen', 3060.0), ('\"Wine - White', 67.27), ('Wine - Pinot Noir Stoneleigh', 1199.68), ('\"Pepper - Green', 74.72), ('Bread - Raisin Walnut Oval', 565.74), ('\"Veal - Shank', 8.78), ('Wine - Piper Heidsieck Brut', 60.28), ('Pork - Side Ribs', 1239.55), ('Shark - Loin', 899.6), ('\"Soup - Knorr', 17.46), ('Water Chestnut - Canned', 353.78), ('Sugar Thermometer', 4231.41), ('Chervil - Fresh', 2606.01), ('Muskox - French Rack', 731.92), ('Flower - Leather Leaf Fern', 266.64), ('Buffalo - Tenderloin', 4038.64), ('Pecan Raisin - Tarts', 2714.85), ('Muffin Mix - Chocolate Chip', 7116.77), ('Sauerkraut', 6840.1), ('Coffee - Irish Cream', 1960.98), ('Juice - Orange 1.89l', 4011.23), ('Eel - Smoked', 1834.11), ('Ginger - Pickled', 630.24), ('Beer - Sleemans Cream Ale', 161.7), ('Bar - Sweet And Salty Chocolate', 7066.56), ('Pork Ham Prager', 4055.52), ('Muffin Mix - Corn Harvest', 1322.2), ('Tuna - Bluefin', 87.98), ('Bread - Italian Sesame Poly', 955.36), ('Potatoes - Parissienne', 130.9), ('Coffee - Egg Nog Capuccino', 2671.95), ('Mustard - Dijon', 4601.3), ('Juice - Prune', 189.44), ('Lychee', 319.8), ('Ice Cream - Strawberry', 1451.29), ('Quail - Jumbo Boneless', 4176.72), ('Sugar - Splenda Sweetener', 1567.62), ('Wine - Chardonnay Mondavi', 89.92), ('Wine - Prosecco Valdobiaddene', 3635.37), ('\"Mushroom - Shitake', 78.25), ('Water - Tonic', 4464.2), ('\"Schnappes - Peach', 80.68), ('\"Vermacelli - Sprinkles', 34.71), ('Cheese Cheddar Processed', 513.12), ('\"Cheese - Cheddar', 32.5), ('Tea - Lemon Green Tea', 3343.2), ('\"Mushroom - Chanterelle', 91.13), ('Fish - Bones', 3967.38), ('Lobster - Live', 2250.6), ('\"Juice - V8', 75.5), ('Bread - Ciabatta Buns', 1604.12), ('Kellogs Cereal In A Cup', 603.36), ('\"Chicken - White Meat', 46.57), ('Arizona - Plum Green Tea', 685.9), ('\"Ice - Clear', 24.04), ('Muffin Batt - Ban Dream Zero', 4079.6), ('\"Nut - Pecan', 92.08), ('\"Mushrooms - Black', 23.76)])\n"
     ]
    }
   ],
   "source": [
    "#Exercise - Analyzing Sales Data\n",
    "f = open(\"../Data/sales_data.csv\", \"r\")\n",
    "\n",
    "product_dict = {}\n",
    "\n",
    "for line in f:\n",
    "    if line == \"Product_Name,Date_Sold,Units_Sold,Price_per_Unit,Total_Sale\\n\":\n",
    "        continue # This allows us to skip the header row\n",
    "\n",
    "    linesplit = line.split(\",\")\n",
    "    Product_Name = linesplit[0]\n",
    "    Total_Sale = float(linesplit[4].rstrip(\"\\n\"))\n",
    "    \n",
    "    product_dict[Product_Name] = Total_Sale\n",
    "\n",
    "print(product_dict.items())\n",
    "\n",
    "f.close()"
   ]
  }
 ],
 "metadata": {
  "kernelspec": {
   "display_name": "Python 3",
   "language": "python",
   "name": "python3"
  },
  "language_info": {
   "codemirror_mode": {
    "name": "ipython",
    "version": 3
   },
   "file_extension": ".py",
   "mimetype": "text/x-python",
   "name": "python",
   "nbconvert_exporter": "python",
   "pygments_lexer": "ipython3",
   "version": "3.12.2"
  }
 },
 "nbformat": 4,
 "nbformat_minor": 2
}
