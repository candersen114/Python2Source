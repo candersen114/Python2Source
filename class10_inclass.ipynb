{
 "cells": [
  {
   "cell_type": "code",
   "execution_count": 1,
   "metadata": {},
   "outputs": [],
   "source": [
    "# Imports - avoid importing multiple copies\n",
    "import math\n",
    "import pandas as pd"
   ]
  },
  {
   "cell_type": "markdown",
   "metadata": {},
   "source": [
    "# Exercise 1\n",
    "Write functions to calculate mean, median, and mode of a list w/o using built-in functions for the calculation itself"
   ]
  },
  {
   "cell_type": "code",
   "execution_count": 2,
   "metadata": {},
   "outputs": [],
   "source": [
    "def fn_mean(lstInput):\n",
    "    return sum(lstInput) / len(lstInput)\n",
    "\n",
    "def fn_median(lstInput):\n",
    "    # Sort the list (required for calculating median)\n",
    "    lstInput.sort()\n",
    "\n",
    "    # Determine based on the list length (even or odd) how to determine the median\n",
    "    if len(lstInput) % 2 == 0: # Even number of entries\n",
    "        return ((lstInput[math.floor((len(lstInput)/2)-1)] + lstInput[math.floor(len(lstInput)/2)]) / 2)\n",
    "    else: # odd\n",
    "        return (lstInput[math.floor(len(lstInput)/2)])\n",
    "    \n",
    "def fn_quartiles(lstInput):\n",
    "    # Get the median of the full list\n",
    "    set_median = fn_median(lstInput)\n",
    "\n",
    "    # Build \"bottom\" and \"top\" lists\n",
    "    lstBottom = [li for li in lstInput if li < set_median]\n",
    "    lstTop = [li for li in lstInput if li > set_median]\n",
    "\n",
    "    # The following list will break the code: [1,1,1,1,1,1,1,1,1,1,2,3,4,5,6,7]... need to handle the\n",
    "    # case where one of the lists is empty, meaning the entire top or bottom half of the list is equal to the median\n",
    "    if len(lstBottom) == 0:\n",
    "        lstBottom.append(set_median)\n",
    "    if len(lstTop) == 0:\n",
    "        lstTop.append(set_median)\n",
    "\n",
    "    # Return the medians of both lists\n",
    "    return fn_median(lstBottom), fn_median(lstTop)\n",
    "\n",
    "#def fn_mode(lstInput):\n",
    "    "
   ]
  },
  {
   "cell_type": "code",
   "execution_count": 3,
   "metadata": {},
   "outputs": [
    {
     "name": "stdout",
     "output_type": "stream",
     "text": [
      "List items:  16\n",
      "Sum:  37\n",
      "Mean:  2.3125\n",
      "Median:  1.0\n",
      "25%:  1.0 ; 75%:  4.5\n",
      "[1, 1, 1, 1, 1, 1, 1, 1, 1, 1, 2, 3, 4, 5, 6, 7]\n"
     ]
    }
   ],
   "source": [
    "#lst = [9, 5, 6, 2, 3, 5, 8, 7, 8, 9, 8, 3, 1, 5, 7, 12]\n",
    "lst = [1,1,1,1,1,1,1,1,1,1,2,3,4,5,6,7]\n",
    "\n",
    "print(\"List items: \", len(lst))\n",
    "print(\"Sum: \", sum(lst))\n",
    "print(\"Mean: \", fn_mean(lst))\n",
    "print(\"Median: \", fn_median(lst))\n",
    "\n",
    "# Quartiles - 25% is the median below the set-wide median, 75% is the median above the set-wide median\n",
    "quartile25, quartile75 = fn_quartiles(lst)\n",
    "print(\"25%: \", quartile25, \"; 75%: \", quartile75)\n",
    "\n",
    "lst.sort()\n",
    "print(lst)"
   ]
  },
  {
   "cell_type": "code",
   "execution_count": null,
   "metadata": {},
   "outputs": [],
   "source": [
    "# Pat Lacey's answer:\n",
    "\n",
    "'''\n",
    "Write a function to calculate the mode, mean, and medium of a passed list.\n",
    "Do not use any built in functions of library functions to assist in the calculations.\n",
    "'''\n",
    "\n",
    "data = [1, 23, 456, 7, 89, 101, 194, 245, 25, 456, 23, 999, 5930, 23, 78]\n",
    "\n",
    "\n",
    "def get_mode(data):\n",
    "    # calculates the mode of the input list - most common value\n",
    "    # create a dictionary that tracks a list's unique values and their frequency\n",
    "    frequency = {}\n",
    "    # a temporary variable to track the count of the most common value\n",
    "    max_count = 0\n",
    "    # final answer variable\n",
    "    mode = None\n",
    "    # iterate through each index in the list and track the count of the values\n",
    "    for item in data:\n",
    "        if item in frequency:\n",
    "            frequency[item] += 1\n",
    "        else: \n",
    "            frequency[item] = 1\n",
    "\n",
    "        # update the biggest count \n",
    "        if frequency[item] > max_count:\n",
    "            max_count = frequency[item]\n",
    "            mode = item\n",
    "\n",
    "    return mode\n",
    "\n",
    "def get_median(data):\n",
    "    # calculates the median of the input list\n",
    "    # sort the list\n",
    "    data.sort()\n",
    "    # find the middle index\n",
    "    list_len = len(data)\n",
    "    mid_index = list_len // 2 # integer division will account for odd list lengths\n",
    "    median = data[mid_index] # gets the value at the middle index\n",
    "    return median\n",
    "\n",
    "def get_mean(data):\n",
    "    # calculates the mean of the input list\n",
    "    total_values = len(data)\n",
    "    # a variable to track the sum\n",
    "    sum = 0\n",
    "    for i in range(total_values):\n",
    "        # add the value of the the list at that index to the sum variable\n",
    "        sum += data[i]\n",
    "    # calculate mean\n",
    "    mean = sum / total_values\n",
    "    return mean\n",
    "\n",
    "print(f\"Mean: {get_mean(data)}\")\n",
    "print(f\"Median: {get_median(data)}\")\n",
    "print(f\"Mode: {get_mode(data)}\")"
   ]
  },
  {
   "cell_type": "markdown",
   "metadata": {},
   "source": [
    "# Take-home exercise\n",
    "Write some code to calculate the correlation of two lists"
   ]
  },
  {
   "cell_type": "code",
   "execution_count": 3,
   "metadata": {},
   "outputs": [
    {
     "name": "stdout",
     "output_type": "stream",
     "text": [
      "BEFORE SORTING\n",
      "List 1:  [792, 528, 906, 596, 871, 372, 794, 996, 291, 507, 351, 724, 246, 122, 631, 628, 530, 306, 173, 91, 511, 434, 146, 49, 725, 11, 811, 527, 18, 56, 468, 638, 3, 645, 345, 204, 153, 33, 148, 661, 325, 431, 262, 908, 645, 241, 555, 5, 727, 365, 997, 632, 66, 35, 388, 234, 555, 570, 297, 654, 7, 474, 532, 616, 179, 489, 36, 345, 765, 628, 34, 506, 869, 319, 455, 954, 504, 393, 963, 285, 897, 118, 150, 853, 271, 829, 419, 21, 908, 41, 669, 371, 580, 231, 746, 365, 995, 466, 109, 597]\n",
      "List 2:  [240, 176, 83, 840, 70, 542, 868, 871, 457, 914, 140, 557, 568, 339, 308, 771, 449, 305, 59, 504, 872, 919, 153, 617, 590, 381, 70, 302, 977, 306, 479, 515, 359, 1000, 177, 684, 967, 48, 353, 816, 6, 334, 288, 744, 850, 158, 916, 700, 759, 883, 559, 456, 422, 104, 562, 649, 814, 830, 60, 90, 658, 694, 10, 697, 40, 11, 207, 10, 808, 374, 277, 783, 43, 692, 919, 910, 35, 413, 135, 899, 444, 658, 527, 211, 886, 870, 416, 762, 777, 441, 98, 921, 151, 337, 97, 506, 76, 144, 281, 926]\n",
      "Correlation: \n",
      "           List1     List2\n",
      "List1  1.000000  0.066758\n",
      "List2  0.066758  1.000000\n",
      "\n",
      "AFTER SORTING\n",
      "List 1:  [3, 5, 7, 11, 18, 21, 33, 34, 35, 36, 41, 49, 56, 66, 91, 109, 118, 122, 146, 148, 150, 153, 173, 179, 204, 231, 234, 241, 246, 262, 271, 285, 291, 297, 306, 319, 325, 345, 345, 351, 365, 365, 371, 372, 388, 393, 419, 431, 434, 455, 466, 468, 474, 489, 504, 506, 507, 511, 527, 528, 530, 532, 555, 555, 570, 580, 596, 597, 616, 628, 628, 631, 632, 638, 645, 645, 654, 661, 669, 724, 725, 727, 746, 765, 792, 794, 811, 829, 853, 869, 871, 897, 906, 908, 908, 954, 963, 995, 996, 997]\n",
      "List 2:  [6, 10, 10, 11, 35, 40, 43, 48, 59, 60, 70, 70, 76, 83, 90, 97, 98, 104, 135, 140, 144, 151, 153, 158, 176, 177, 207, 211, 240, 277, 281, 288, 302, 305, 306, 308, 334, 337, 339, 353, 359, 374, 381, 413, 416, 422, 441, 444, 449, 456, 457, 479, 504, 506, 515, 527, 542, 557, 559, 562, 568, 590, 617, 649, 658, 658, 684, 692, 694, 697, 700, 744, 759, 762, 771, 777, 783, 808, 814, 816, 830, 840, 850, 868, 870, 871, 872, 883, 886, 899, 910, 914, 916, 919, 919, 921, 926, 967, 977, 1000]\n",
      "Correlation: \n",
      "           List1     List2\n",
      "List1  1.000000  0.990723\n",
      "List2  0.990723  1.000000\n"
     ]
    }
   ],
   "source": [
    "import pandas as pd\n",
    "import random\n",
    "\n",
    "def calc_correlation(list1, list2):\n",
    "    dfLists = pd.DataFrame({\"List1\": list1, \"List2\": list2})\n",
    "    return dfLists.corr()\n",
    "\n",
    "# Generate two lists of 10 items each\n",
    "lstList1 = []\n",
    "lstList2 = []\n",
    "\n",
    "for i in range(10):\n",
    "    lstList1.append(random.randint(1, 10))\n",
    "    lstList2.append(random.randint(1, 10))\n",
    "\n",
    "print(\"BEFORE SORTING\")\n",
    "print(\"List 1: \", lstList1)\n",
    "print(\"List 2: \", lstList2)\n",
    "print(\"Correlation: \\n\", calc_correlation(lstList1, lstList2))\n",
    "\n",
    "print(\"\\nAFTER SORTING\")\n",
    "\n",
    "lstList1.sort()\n",
    "lstList2.sort()\n",
    "print(\"List 1: \", lstList1)\n",
    "print(\"List 2: \", lstList2)\n",
    "print(\"Correlation: \\n\", calc_correlation(lstList1, lstList2))"
   ]
  }
 ],
 "metadata": {
  "kernelspec": {
   "display_name": "Python 3",
   "language": "python",
   "name": "python3"
  },
  "language_info": {
   "codemirror_mode": {
    "name": "ipython",
    "version": 3
   },
   "file_extension": ".py",
   "mimetype": "text/x-python",
   "name": "python",
   "nbconvert_exporter": "python",
   "pygments_lexer": "ipython3",
   "version": "3.12.2"
  }
 },
 "nbformat": 4,
 "nbformat_minor": 2
}
