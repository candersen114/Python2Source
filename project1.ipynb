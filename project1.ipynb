{
 "cells": [
  {
   "cell_type": "markdown",
   "metadata": {},
   "source": [
    "# Imports"
   ]
  },
  {
   "cell_type": "code",
   "execution_count": 17,
   "metadata": {},
   "outputs": [],
   "source": [
    "import pandas as pd\n",
    "from datetime import datetime"
   ]
  },
  {
   "cell_type": "markdown",
   "metadata": {},
   "source": [
    "# Parameters\n",
    "The following cell contains variables that are used to drive execution and improve reusability with future data sets"
   ]
  },
  {
   "cell_type": "code",
   "execution_count": 36,
   "metadata": {},
   "outputs": [],
   "source": [
    "# File Location\n",
    "strFilePath = \"../Data/\"\n",
    "strFileName = \"Project_1_Data_File.csv\"\n",
    "\n",
    "# Columns to treat as dates when importing\n",
    "lstDateColNames = [\"Date\"]"
   ]
  },
  {
   "cell_type": "markdown",
   "metadata": {},
   "source": [
    "# Step 1\n",
    "Data Ingestion\n",
    "- Choose the correct source for the provided sample dataset\n",
    "- Write code to fetch and load the raw data into a data structure"
   ]
  },
  {
   "cell_type": "code",
   "execution_count": 37,
   "metadata": {},
   "outputs": [],
   "source": [
    "# Append the file path and file name into a single variable, ensuring we handle the case where the user did not finish the path with a slash\n",
    "strFullFilePath = strFilePath + (\"\" if strFilePath[-1:] == \"/\" else \"/\") + strFileName\n",
    "\n",
    "dfImport = pd.read_csv(strFullFilePath, dtype_backend=\"pyarrow\")"
   ]
  },
  {
   "cell_type": "markdown",
   "metadata": {},
   "source": [
    "# Step 2\n",
    "Data Assessment and Exploration\n",
    "- Examine the dataset to identify missing values, outliers, and data quality issues\n",
    "- To understand the data, generate summary statistics (mean, median, mode, etc)"
   ]
  },
  {
   "cell_type": "code",
   "execution_count": 38,
   "metadata": {},
   "outputs": [
    {
     "name": "stdout",
     "output_type": "stream",
     "text": [
      "Name                  string[pyarrow]\n",
      "Email                 string[pyarrow]\n",
      "Date                  string[pyarrow]\n",
      "Transaction Amount    string[pyarrow]\n",
      "Payment Method        string[pyarrow]\n",
      "Address               string[pyarrow]\n",
      "Product Name          string[pyarrow]\n",
      "dtype: object\n"
     ]
    },
    {
     "data": {
      "text/html": [
       "<div>\n",
       "<style scoped>\n",
       "    .dataframe tbody tr th:only-of-type {\n",
       "        vertical-align: middle;\n",
       "    }\n",
       "\n",
       "    .dataframe tbody tr th {\n",
       "        vertical-align: top;\n",
       "    }\n",
       "\n",
       "    .dataframe thead th {\n",
       "        text-align: right;\n",
       "    }\n",
       "</style>\n",
       "<table border=\"1\" class=\"dataframe\">\n",
       "  <thead>\n",
       "    <tr style=\"text-align: right;\">\n",
       "      <th></th>\n",
       "      <th>Name</th>\n",
       "      <th>Email</th>\n",
       "      <th>Date</th>\n",
       "      <th>Transaction Amount</th>\n",
       "      <th>Payment Method</th>\n",
       "      <th>Address</th>\n",
       "      <th>Product Name</th>\n",
       "    </tr>\n",
       "  </thead>\n",
       "  <tbody>\n",
       "    <tr>\n",
       "      <th>0</th>\n",
       "      <td>Amy Frye</td>\n",
       "      <td>fusce.diam@hotmail.net</td>\n",
       "      <td>11/25/2022</td>\n",
       "      <td>17.52</td>\n",
       "      <td>Credit Card</td>\n",
       "      <td>373-5327 Vulputate, Av.</td>\n",
       "      <td>Wiberg Cure</td>\n",
       "    </tr>\n",
       "    <tr>\n",
       "      <th>1</th>\n",
       "      <td>Travis Tyler</td>\n",
       "      <td>phasellus.libero.mauris@outlook.net</td>\n",
       "      <td>5/17/2023</td>\n",
       "      <td>16.54</td>\n",
       "      <td>Cash</td>\n",
       "      <td>P.O. Box 699, 2987 Lacus. St.</td>\n",
       "      <td>Lettuce - Sea / Sea Asparagus</td>\n",
       "    </tr>\n",
       "    <tr>\n",
       "      <th>2</th>\n",
       "      <td>Linda Herrera</td>\n",
       "      <td>pede@hotmail.com</td>\n",
       "      <td>8/25/2017</td>\n",
       "      <td>16.6</td>\n",
       "      <td>Credit Card</td>\n",
       "      <td>Ap #930-3501 Nulla. St.</td>\n",
       "      <td>Mangostein</td>\n",
       "    </tr>\n",
       "    <tr>\n",
       "      <th>3</th>\n",
       "      <td>Cody Dotson</td>\n",
       "      <td>ac@google.ca</td>\n",
       "      <td>12/15/2018</td>\n",
       "      <td>13.48</td>\n",
       "      <td>CC</td>\n",
       "      <td>P.O. Box 713, 5080 Lacinia Rd.</td>\n",
       "      <td>Bulgar</td>\n",
       "    </tr>\n",
       "    <tr>\n",
       "      <th>4</th>\n",
       "      <td>Aretha Wilkerson</td>\n",
       "      <td>sit@icloud.net</td>\n",
       "      <td>4/24/2024</td>\n",
       "      <td>14.39</td>\n",
       "      <td>Cash</td>\n",
       "      <td>Ap #839-4960 Ornare Rd.</td>\n",
       "      <td>Cocoa Powder - Dutched</td>\n",
       "    </tr>\n",
       "    <tr>\n",
       "      <th>...</th>\n",
       "      <td>...</td>\n",
       "      <td>...</td>\n",
       "      <td>...</td>\n",
       "      <td>...</td>\n",
       "      <td>...</td>\n",
       "      <td>...</td>\n",
       "      <td>...</td>\n",
       "    </tr>\n",
       "    <tr>\n",
       "      <th>45</th>\n",
       "      <td>Lee Faulkner</td>\n",
       "      <td>id.sapien.cras@hotmail.ca</td>\n",
       "      <td>9/25/2019</td>\n",
       "      <td>13.96</td>\n",
       "      <td>Credit Card</td>\n",
       "      <td>Ap #727-3228 Est St.</td>\n",
       "      <td>Table Cloth 144x90 White</td>\n",
       "    </tr>\n",
       "    <tr>\n",
       "      <th>46</th>\n",
       "      <td>Vance Chang</td>\n",
       "      <td>nulla@hotmail.couk</td>\n",
       "      <td>4/11/2016</td>\n",
       "      <td>13.42</td>\n",
       "      <td>Credit Card</td>\n",
       "      <td>172-2326 At Avenue</td>\n",
       "      <td>Dates</td>\n",
       "    </tr>\n",
       "    <tr>\n",
       "      <th>47</th>\n",
       "      <td>Garrett Williams</td>\n",
       "      <td>quis.turpis@aol.org</td>\n",
       "      <td>6/27/2017</td>\n",
       "      <td>13.63</td>\n",
       "      <td>PayPal</td>\n",
       "      <td>902-2208 Venenatis St.</td>\n",
       "      <td>Soup - Cream Of Broccoli</td>\n",
       "    </tr>\n",
       "    <tr>\n",
       "      <th>48</th>\n",
       "      <td>Bernard Lott</td>\n",
       "      <td>et.magnis@aol.couk</td>\n",
       "      <td>5/29/2018</td>\n",
       "      <td>15.28</td>\n",
       "      <td>Credit Card</td>\n",
       "      <td>924-4446 Sem St.</td>\n",
       "      <td>Ham Black Forest</td>\n",
       "    </tr>\n",
       "    <tr>\n",
       "      <th>49</th>\n",
       "      <td>Devin Burgess</td>\n",
       "      <td>egestas.urna.justo@hotmail.com</td>\n",
       "      <td>5/5/2023</td>\n",
       "      <td>14.58</td>\n",
       "      <td>Cash</td>\n",
       "      <td>Ap #312-5519 Donec St.</td>\n",
       "      <td>Jameson - Irish Whiskey</td>\n",
       "    </tr>\n",
       "  </tbody>\n",
       "</table>\n",
       "<p>50 rows × 7 columns</p>\n",
       "</div>"
      ],
      "text/plain": [
       "                Name                                Email        Date  \\\n",
       "0           Amy Frye               fusce.diam@hotmail.net  11/25/2022   \n",
       "1       Travis Tyler  phasellus.libero.mauris@outlook.net   5/17/2023   \n",
       "2      Linda Herrera                     pede@hotmail.com   8/25/2017   \n",
       "3        Cody Dotson                         ac@google.ca  12/15/2018   \n",
       "4   Aretha Wilkerson                       sit@icloud.net   4/24/2024   \n",
       "..               ...                                  ...         ...   \n",
       "45      Lee Faulkner            id.sapien.cras@hotmail.ca   9/25/2019   \n",
       "46       Vance Chang                   nulla@hotmail.couk   4/11/2016   \n",
       "47  Garrett Williams                  quis.turpis@aol.org   6/27/2017   \n",
       "48      Bernard Lott                   et.magnis@aol.couk   5/29/2018   \n",
       "49     Devin Burgess       egestas.urna.justo@hotmail.com    5/5/2023   \n",
       "\n",
       "   Transaction Amount Payment Method                         Address  \\\n",
       "0               17.52    Credit Card         373-5327 Vulputate, Av.   \n",
       "1               16.54           Cash   P.O. Box 699, 2987 Lacus. St.   \n",
       "2                16.6    Credit Card         Ap #930-3501 Nulla. St.   \n",
       "3               13.48             CC  P.O. Box 713, 5080 Lacinia Rd.   \n",
       "4               14.39           Cash         Ap #839-4960 Ornare Rd.   \n",
       "..                ...            ...                             ...   \n",
       "45              13.96    Credit Card            Ap #727-3228 Est St.   \n",
       "46              13.42    Credit Card              172-2326 At Avenue   \n",
       "47              13.63         PayPal          902-2208 Venenatis St.   \n",
       "48              15.28    Credit Card                924-4446 Sem St.   \n",
       "49              14.58           Cash          Ap #312-5519 Donec St.   \n",
       "\n",
       "                     Product Name  \n",
       "0                     Wiberg Cure  \n",
       "1   Lettuce - Sea / Sea Asparagus  \n",
       "2                      Mangostein  \n",
       "3                          Bulgar  \n",
       "4          Cocoa Powder - Dutched  \n",
       "..                            ...  \n",
       "45       Table Cloth 144x90 White  \n",
       "46                          Dates  \n",
       "47       Soup - Cream Of Broccoli  \n",
       "48               Ham Black Forest  \n",
       "49        Jameson - Irish Whiskey  \n",
       "\n",
       "[50 rows x 7 columns]"
      ]
     },
     "execution_count": 38,
     "metadata": {},
     "output_type": "execute_result"
    }
   ],
   "source": [
    "# Ensure we can look at the full dataset\n",
    "#pd.set_option('display.max_rows', 10)\n",
    "print(dfImport.dtypes)\n",
    "dfImport.head(50)"
   ]
  },
  {
   "cell_type": "markdown",
   "metadata": {},
   "source": [
    "# Step 3\n",
    "Data Cleaning\n",
    "- Handle missing values: replace or remove them based on the context\n",
    "- Address outliers or incorrect values\n",
    "- Standardize data types for consistency\n",
    "- Clean and format text or categorical data as necessary"
   ]
  },
  {
   "cell_type": "code",
   "execution_count": 32,
   "metadata": {},
   "outputs": [],
   "source": [
    "# Define reusable functions that can be used on a column.\n",
    "def clean_date(strInputDate):\n",
    "    lstValidFormats = [\"%m/%d/%y\", \"%m-%d-%y\", \"%Y-%d-%m\"]\n",
    "\n",
    "    for fmt in lstValidFormats:\n",
    "        try:\n",
    "            cleandate = datetime.strftime(strInputDate, fmt)\n",
    "            # If we were able to parse the date, return the standardized %m/%d/%Y format\n",
    "            return cleandate.strftime(\"%m/%d/%Y\")\n",
    "        except:\n",
    "            return strInputDate + \"***\""
   ]
  },
  {
   "cell_type": "markdown",
   "metadata": {},
   "source": [
    "### Apply the cleansing functions defined above"
   ]
  },
  {
   "cell_type": "code",
   "execution_count": 40,
   "metadata": {},
   "outputs": [
    {
     "name": "stdout",
     "output_type": "stream",
     "text": [
      "<class 'str'>\n"
     ]
    }
   ],
   "source": [
    "for c in lstDateColNames:\n",
    "    print(type(c))\n",
    "    strC = c + \"Clean\"\n",
    "    dfImport[strC] = dfImport[c].apply(clean_date)"
   ]
  },
  {
   "cell_type": "code",
   "execution_count": 42,
   "metadata": {},
   "outputs": [
    {
     "ename": "KeyError",
     "evalue": "True",
     "output_type": "error",
     "traceback": [
      "\u001b[0;31m---------------------------------------------------------------------------\u001b[0m",
      "\u001b[0;31mKeyError\u001b[0m                                  Traceback (most recent call last)",
      "File \u001b[0;32m/Library/Frameworks/Python.framework/Versions/3.12/lib/python3.12/site-packages/pandas/core/indexes/base.py:3805\u001b[0m, in \u001b[0;36mIndex.get_loc\u001b[0;34m(self, key)\u001b[0m\n\u001b[1;32m   3804\u001b[0m \u001b[38;5;28;01mtry\u001b[39;00m:\n\u001b[0;32m-> 3805\u001b[0m     \u001b[38;5;28;01mreturn\u001b[39;00m \u001b[38;5;28;43mself\u001b[39;49m\u001b[38;5;241;43m.\u001b[39;49m\u001b[43m_engine\u001b[49m\u001b[38;5;241;43m.\u001b[39;49m\u001b[43mget_loc\u001b[49m\u001b[43m(\u001b[49m\u001b[43mcasted_key\u001b[49m\u001b[43m)\u001b[49m\n\u001b[1;32m   3806\u001b[0m \u001b[38;5;28;01mexcept\u001b[39;00m \u001b[38;5;167;01mKeyError\u001b[39;00m \u001b[38;5;28;01mas\u001b[39;00m err:\n",
      "File \u001b[0;32mindex.pyx:167\u001b[0m, in \u001b[0;36mpandas._libs.index.IndexEngine.get_loc\u001b[0;34m()\u001b[0m\n",
      "File \u001b[0;32mindex.pyx:196\u001b[0m, in \u001b[0;36mpandas._libs.index.IndexEngine.get_loc\u001b[0;34m()\u001b[0m\n",
      "File \u001b[0;32mpandas/_libs/hashtable_class_helper.pxi:7081\u001b[0m, in \u001b[0;36mpandas._libs.hashtable.PyObjectHashTable.get_item\u001b[0;34m()\u001b[0m\n",
      "File \u001b[0;32mpandas/_libs/hashtable_class_helper.pxi:7089\u001b[0m, in \u001b[0;36mpandas._libs.hashtable.PyObjectHashTable.get_item\u001b[0;34m()\u001b[0m\n",
      "\u001b[0;31mKeyError\u001b[0m: True",
      "\nThe above exception was the direct cause of the following exception:\n",
      "\u001b[0;31mKeyError\u001b[0m                                  Traceback (most recent call last)",
      "Cell \u001b[0;32mIn[42], line 1\u001b[0m\n\u001b[0;32m----> 1\u001b[0m display(\u001b[43mdfImport\u001b[49m\u001b[43m[\u001b[49m\u001b[43mdfImport\u001b[49m\u001b[43m[\u001b[49m\u001b[38;5;124;43m\"\u001b[39;49m\u001b[38;5;124;43mDate\u001b[39;49m\u001b[38;5;124;43m\"\u001b[39;49m\u001b[43m]\u001b[49m\u001b[38;5;241;43m.\u001b[39;49m\u001b[43mstr\u001b[49m\u001b[43m \u001b[49m\u001b[38;5;241;43m!=\u001b[39;49m\u001b[43m \u001b[49m\u001b[43mdfImport\u001b[49m\u001b[43m[\u001b[49m\u001b[38;5;124;43m\"\u001b[39;49m\u001b[38;5;124;43mDateClean\u001b[39;49m\u001b[38;5;124;43m\"\u001b[39;49m\u001b[43m]\u001b[49m\u001b[38;5;241;43m.\u001b[39;49m\u001b[43mstr\u001b[49m\u001b[43m]\u001b[49m)\n",
      "File \u001b[0;32m/Library/Frameworks/Python.framework/Versions/3.12/lib/python3.12/site-packages/pandas/core/frame.py:4090\u001b[0m, in \u001b[0;36mDataFrame.__getitem__\u001b[0;34m(self, key)\u001b[0m\n\u001b[1;32m   4088\u001b[0m \u001b[38;5;28;01mif\u001b[39;00m \u001b[38;5;28mself\u001b[39m\u001b[38;5;241m.\u001b[39mcolumns\u001b[38;5;241m.\u001b[39mnlevels \u001b[38;5;241m>\u001b[39m \u001b[38;5;241m1\u001b[39m:\n\u001b[1;32m   4089\u001b[0m     \u001b[38;5;28;01mreturn\u001b[39;00m \u001b[38;5;28mself\u001b[39m\u001b[38;5;241m.\u001b[39m_getitem_multilevel(key)\n\u001b[0;32m-> 4090\u001b[0m indexer \u001b[38;5;241m=\u001b[39m \u001b[38;5;28;43mself\u001b[39;49m\u001b[38;5;241;43m.\u001b[39;49m\u001b[43mcolumns\u001b[49m\u001b[38;5;241;43m.\u001b[39;49m\u001b[43mget_loc\u001b[49m\u001b[43m(\u001b[49m\u001b[43mkey\u001b[49m\u001b[43m)\u001b[49m\n\u001b[1;32m   4091\u001b[0m \u001b[38;5;28;01mif\u001b[39;00m is_integer(indexer):\n\u001b[1;32m   4092\u001b[0m     indexer \u001b[38;5;241m=\u001b[39m [indexer]\n",
      "File \u001b[0;32m/Library/Frameworks/Python.framework/Versions/3.12/lib/python3.12/site-packages/pandas/core/indexes/base.py:3812\u001b[0m, in \u001b[0;36mIndex.get_loc\u001b[0;34m(self, key)\u001b[0m\n\u001b[1;32m   3807\u001b[0m     \u001b[38;5;28;01mif\u001b[39;00m \u001b[38;5;28misinstance\u001b[39m(casted_key, \u001b[38;5;28mslice\u001b[39m) \u001b[38;5;129;01mor\u001b[39;00m (\n\u001b[1;32m   3808\u001b[0m         \u001b[38;5;28misinstance\u001b[39m(casted_key, abc\u001b[38;5;241m.\u001b[39mIterable)\n\u001b[1;32m   3809\u001b[0m         \u001b[38;5;129;01mand\u001b[39;00m \u001b[38;5;28many\u001b[39m(\u001b[38;5;28misinstance\u001b[39m(x, \u001b[38;5;28mslice\u001b[39m) \u001b[38;5;28;01mfor\u001b[39;00m x \u001b[38;5;129;01min\u001b[39;00m casted_key)\n\u001b[1;32m   3810\u001b[0m     ):\n\u001b[1;32m   3811\u001b[0m         \u001b[38;5;28;01mraise\u001b[39;00m InvalidIndexError(key)\n\u001b[0;32m-> 3812\u001b[0m     \u001b[38;5;28;01mraise\u001b[39;00m \u001b[38;5;167;01mKeyError\u001b[39;00m(key) \u001b[38;5;28;01mfrom\u001b[39;00m \u001b[38;5;21;01merr\u001b[39;00m\n\u001b[1;32m   3813\u001b[0m \u001b[38;5;28;01mexcept\u001b[39;00m \u001b[38;5;167;01mTypeError\u001b[39;00m:\n\u001b[1;32m   3814\u001b[0m     \u001b[38;5;66;03m# If we have a listlike key, _check_indexing_error will raise\u001b[39;00m\n\u001b[1;32m   3815\u001b[0m     \u001b[38;5;66;03m#  InvalidIndexError. Otherwise we fall through and re-raise\u001b[39;00m\n\u001b[1;32m   3816\u001b[0m     \u001b[38;5;66;03m#  the TypeError.\u001b[39;00m\n\u001b[1;32m   3817\u001b[0m     \u001b[38;5;28mself\u001b[39m\u001b[38;5;241m.\u001b[39m_check_indexing_error(key)\n",
      "\u001b[0;31mKeyError\u001b[0m: True"
     ]
    }
   ],
   "source": [
    "display(dfImport[dfImport[\"Date\"].str != dfImport[\"DateClean\"].str])"
   ]
  }
 ],
 "metadata": {
  "kernelspec": {
   "display_name": "Python 3",
   "language": "python",
   "name": "python3"
  },
  "language_info": {
   "codemirror_mode": {
    "name": "ipython",
    "version": 3
   },
   "file_extension": ".py",
   "mimetype": "text/x-python",
   "name": "python",
   "nbconvert_exporter": "python",
   "pygments_lexer": "ipython3",
   "version": "3.12.2"
  }
 },
 "nbformat": 4,
 "nbformat_minor": 2
}
