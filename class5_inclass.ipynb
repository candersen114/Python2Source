{
 "cells": [
  {
   "cell_type": "code",
   "execution_count": null,
   "metadata": {},
   "outputs": [],
   "source": [
    "# Imports - avoid importing multiple copies\n",
    "import pandas as pd\n"
   ]
  },
  {
   "cell_type": "code",
   "execution_count": 2,
   "metadata": {},
   "outputs": [
    {
     "name": "stdout",
     "output_type": "stream",
     "text": [
      "2345\n"
     ]
    },
    {
     "data": {
      "text/plain": [
       "54"
      ]
     },
     "execution_count": 2,
     "metadata": {},
     "output_type": "execute_result"
    }
   ],
   "source": [
    "# In-class exercise 1\n",
    "\n",
    "# Create a series from a list, change indeces to letters,\n",
    "# prompt user for a letter, and print the value of the series at that letter index\n",
    "\n",
    "#import pandas as pd\n",
    "\n",
    "mylist = [54,345,75,2345,56732,45,634,6346,4534,7,34645,34]\n",
    "\n",
    "# Create a list of letters we will use as indeces - this code will choke if len(mylist) > 26\n",
    "indexlist = [chr(97+i) for i in range(len(mylist))]\n",
    "\n",
    "# Create the series\n",
    "myseries = pd.Series(data=mylist, index=indexlist)\n",
    "\n",
    "# Have the user input a letter\n",
    "strLetter = input(f\"Enter a single letter ({''.join(indexlist)}): \")\n",
    "\n",
    "# Print the item in the series at the index the user enters\n",
    "print(myseries[strLetter])"
   ]
  },
  {
   "cell_type": "code",
   "execution_count": 5,
   "metadata": {},
   "outputs": [
    {
     "name": "stdout",
     "output_type": "stream",
     "text": [
      "Mean: 24184.8\n",
      "Median: 462.5\n",
      "The mean is larger\n"
     ]
    }
   ],
   "source": [
    "#import pandas as pd\n",
    "\n",
    "# Create the series of numbers\n",
    "numlist = [435,456,34,523,545,3245,235623,62,462,463]\n",
    "\n",
    "# Convert the list into a series\n",
    "numseries = pd.Series(data=numlist)\n",
    "\n",
    "seriesmean = numseries.mean()\n",
    "seriesmedian = numseries.median()\n",
    "\n",
    "# Output the mean, median, and which is larger\n",
    "print(f\"Mean: {seriesmean}\")\n",
    "print(f\"Median: {seriesmedian}\")\n",
    "if seriesmean > seriesmedian:\n",
    "    print(\"The mean is larger\")\n",
    "elif seriesmean < seriesmedian:\n",
    "    print(\"The median is larger\")\n",
    "else:\n",
    "    print(\"The mean and median are equal\")"
   ]
  },
  {
   "cell_type": "code",
   "execution_count": 8,
   "metadata": {},
   "outputs": [
    {
     "name": "stdout",
     "output_type": "stream",
     "text": [
      "   Name  Age      City\n",
      "0  John   30  New York\n",
      "1  Jane   29    London\n",
      "2   Jim   31     Paris\n",
      "3  Joan   32    Berlin\n"
     ]
    }
   ],
   "source": [
    "# Create a DataFrame from a dictionary\n",
    "data = {'Name': ['John', 'Jane', 'Jim', 'Joan'],\n",
    "        'Age': [30, 29, 31, 32],\n",
    "        'City': ['New York', 'London', 'Paris', 'Berlin']}\n",
    "df = pd.DataFrame(data)\n",
    "# Display the DataFrame\n",
    "print(df)"
   ]
  },
  {
   "cell_type": "code",
   "execution_count": 14,
   "metadata": {},
   "outputs": [
    {
     "ename": "AttributeError",
     "evalue": "'DataFrame' object has no attribute 'concat'",
     "output_type": "error",
     "traceback": [
      "\u001b[0;31m---------------------------------------------------------------------------\u001b[0m",
      "\u001b[0;31mAttributeError\u001b[0m                            Traceback (most recent call last)",
      "\u001b[0;32m/var/folders/cx/t4tmn45j49qdssz1t2jr1xwm0000gn/T/ipykernel_96564/3544351178.py\u001b[0m in \u001b[0;36m?\u001b[0;34m()\u001b[0m\n\u001b[1;32m     24\u001b[0m                 \u001b[0;34m\"Grade\"\u001b[0m\u001b[0;34m:\u001b[0m \u001b[0;36m12\u001b[0m\u001b[0;34m,\u001b[0m\u001b[0;34m\u001b[0m\u001b[0;34m\u001b[0m\u001b[0m\n\u001b[1;32m     25\u001b[0m                 \u001b[0;34m\"Math Grade\"\u001b[0m\u001b[0;34m:\u001b[0m \u001b[0;36m73\u001b[0m\u001b[0;34m,\u001b[0m\u001b[0;34m\u001b[0m\u001b[0;34m\u001b[0m\u001b[0m\n\u001b[1;32m     26\u001b[0m                 \u001b[0;34m\"Science Grade\"\u001b[0m\u001b[0;34m:\u001b[0m \u001b[0;36m79\u001b[0m\u001b[0;34m}\u001b[0m\u001b[0;34m\u001b[0m\u001b[0;34m\u001b[0m\u001b[0m\n\u001b[1;32m     27\u001b[0m \u001b[0;34m\u001b[0m\u001b[0m\n\u001b[0;32m---> 28\u001b[0;31m \u001b[0mdfStudent\u001b[0m \u001b[0;34m=\u001b[0m \u001b[0mdfStudent\u001b[0m\u001b[0;34m.\u001b[0m\u001b[0mconcat\u001b[0m\u001b[0;34m(\u001b[0m\u001b[0mpd\u001b[0m\u001b[0;34m.\u001b[0m\u001b[0mDataFrame\u001b[0m\u001b[0;34m(\u001b[0m\u001b[0mdictStudent2\u001b[0m\u001b[0;34m)\u001b[0m\u001b[0;34m,\u001b[0m \u001b[0mignore_index\u001b[0m\u001b[0;34m=\u001b[0m\u001b[0;32mTrue\u001b[0m\u001b[0;34m)\u001b[0m\u001b[0;34m\u001b[0m\u001b[0;34m\u001b[0m\u001b[0m\n\u001b[0m\u001b[1;32m     29\u001b[0m \u001b[0;34m\u001b[0m\u001b[0m\n\u001b[1;32m     30\u001b[0m \u001b[0;31m# Output\u001b[0m\u001b[0;34m\u001b[0m\u001b[0;34m\u001b[0m\u001b[0m\n\u001b[1;32m     31\u001b[0m \u001b[0mdisplay\u001b[0m\u001b[0;34m(\u001b[0m\u001b[0mdfStudent\u001b[0m\u001b[0;34m)\u001b[0m\u001b[0;34m\u001b[0m\u001b[0;34m\u001b[0m\u001b[0m\n",
      "\u001b[0;32m/Library/Frameworks/Python.framework/Versions/3.12/lib/python3.12/site-packages/pandas/core/generic.py\u001b[0m in \u001b[0;36m?\u001b[0;34m(self, name)\u001b[0m\n\u001b[1;32m   6292\u001b[0m             \u001b[0;32mand\u001b[0m \u001b[0mname\u001b[0m \u001b[0;32mnot\u001b[0m \u001b[0;32min\u001b[0m \u001b[0mself\u001b[0m\u001b[0;34m.\u001b[0m\u001b[0m_accessors\u001b[0m\u001b[0;34m\u001b[0m\u001b[0;34m\u001b[0m\u001b[0m\n\u001b[1;32m   6293\u001b[0m             \u001b[0;32mand\u001b[0m \u001b[0mself\u001b[0m\u001b[0;34m.\u001b[0m\u001b[0m_info_axis\u001b[0m\u001b[0;34m.\u001b[0m\u001b[0m_can_hold_identifiers_and_holds_name\u001b[0m\u001b[0;34m(\u001b[0m\u001b[0mname\u001b[0m\u001b[0;34m)\u001b[0m\u001b[0;34m\u001b[0m\u001b[0;34m\u001b[0m\u001b[0m\n\u001b[1;32m   6294\u001b[0m         \u001b[0;34m)\u001b[0m\u001b[0;34m:\u001b[0m\u001b[0;34m\u001b[0m\u001b[0;34m\u001b[0m\u001b[0m\n\u001b[1;32m   6295\u001b[0m             \u001b[0;32mreturn\u001b[0m \u001b[0mself\u001b[0m\u001b[0;34m[\u001b[0m\u001b[0mname\u001b[0m\u001b[0;34m]\u001b[0m\u001b[0;34m\u001b[0m\u001b[0;34m\u001b[0m\u001b[0m\n\u001b[0;32m-> 6296\u001b[0;31m         \u001b[0;32mreturn\u001b[0m \u001b[0mobject\u001b[0m\u001b[0;34m.\u001b[0m\u001b[0m__getattribute__\u001b[0m\u001b[0;34m(\u001b[0m\u001b[0mself\u001b[0m\u001b[0;34m,\u001b[0m \u001b[0mname\u001b[0m\u001b[0;34m)\u001b[0m\u001b[0;34m\u001b[0m\u001b[0;34m\u001b[0m\u001b[0m\n\u001b[0m",
      "\u001b[0;31mAttributeError\u001b[0m: 'DataFrame' object has no attribute 'concat'"
     ]
    }
   ],
   "source": [
    "# Create a dataframe to hold information on students.\n",
    "# Use appropriate datatypes and column names\n",
    "# Fill dataframe with sample data (5 rows)\n",
    "\n",
    "# Don't need to import pandas again - already did in an earlier cell\n",
    "\n",
    "# We'll pretend it's a high school class so everything is evenly weighted.\n",
    "# We'll also pretend the data is modeled wildly incorrectly.\n",
    "dictStudent = {\"Name\": [\"John\", \"Melanie\", \"Brian\", \"Sally\", \"George\"],\n",
    "               \"Student ID\": [\"S0058682\", \"S0083671\", \"S0086319\", \"S0069783\", \"S0078731\"],\n",
    "               \"Grade\": [10, 11, 11, 12, 9],\n",
    "               \"Math Grade\": [98, 87, 89, 76, 82],\n",
    "               \"Science Grade\": [95, 91, 85, 72, 84]}\n",
    "\n",
    "# Create the dataframe\n",
    "dfStudent = pd.DataFrame(data=dictStudent)\n",
    "\n",
    "# Add a calculated column for overall average\n",
    "dfStudent[\"Overall Average\"] = dfStudent[[\"Math Grade\", \"Science Grade\"]].mean(axis=1)\n",
    "\n",
    "# Let's see if adding another student keeps the Overall Average calculated\n",
    "dictStudent2 = {\"Name\": \"Jill\",\n",
    "                \"Student ID\": \"S0068893\",\n",
    "                \"Grade\": 12,\n",
    "                \"Math Grade\": 73,\n",
    "                \"Science Grade\": 79}\n",
    "\n",
    "dfStudent = dfStudent.concat(pd.DataFrame(dictStudent2), ignore_index=True)\n",
    "\n",
    "# Output\n",
    "display(dfStudent)"
   ]
  },
  {
   "cell_type": "markdown",
   "metadata": {},
   "source": [
    "# Question about the above:\n",
    "How can a custom class override what is displayed?"
   ]
  }
 ],
 "metadata": {
  "kernelspec": {
   "display_name": "Python 3",
   "language": "python",
   "name": "python3"
  },
  "language_info": {
   "codemirror_mode": {
    "name": "ipython",
    "version": 3
   },
   "file_extension": ".py",
   "mimetype": "text/x-python",
   "name": "python",
   "nbconvert_exporter": "python",
   "pygments_lexer": "ipython3",
   "version": "3.12.2"
  }
 },
 "nbformat": 4,
 "nbformat_minor": 2
}
