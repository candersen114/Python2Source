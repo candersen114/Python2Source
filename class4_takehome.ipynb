{
 "cells": [
  {
   "cell_type": "code",
   "execution_count": 28,
   "metadata": {},
   "outputs": [],
   "source": [
    "from datetime import datetime, timedelta, date\n",
    "import random\n",
    "import csv\n",
    "\n",
    "# Have the user input the column names and data types\n",
    "coltypes = {}\n",
    "\n",
    "# Parameters for the number of columns and the number of rows to generate\n",
    "intColumns = 5\n",
    "intRows = 100\n",
    "\n",
    "# Parameters for the minimum and maximum values\n",
    "intMin = 0\n",
    "intMax = 1000\n",
    "fltMin = 0.0\n",
    "fltMax = 1000.0\n",
    "intNumCharacters = 20\n",
    "strCharacters = 'abcdefghijklmnopqrstuvwxyzABCDEFGHIJKLMNOPQRSTUVWXYZ1234567890'\n",
    "dteMin = date(2000,1,1)\n",
    "dteMax = date.today()\n",
    "\n",
    "for i in range(intColumns):\n",
    "    name = input(f\"Enter a column name ({i+1}): \")\n",
    "    datatype = input(f\"Enter a data type (int, float, string, bool, date) {i+1}: \")\n",
    "    coltypes[name] = datatype\n",
    "\n",
    "# Get the filename to write\n",
    "filename = input(\"Enter a filename (will be stored in ../Data/): \")\n",
    "fullfilename = \"../Data/\" + filename\n",
    "\n",
    "# Create a list to store our dictionary items\n",
    "dictlist = [dict() for x in range(intRows)]\n",
    "tmpdict = {}\n",
    "\n",
    "# Generate the dictionary items\n",
    "for i in range(len(dictlist)):\n",
    "    for col, coltype in coltypes.items():\n",
    "        if coltype == \"int\":\n",
    "            dictlist[i][col] = random.randint(intMin, intMax)\n",
    "        elif coltype == \"float\":\n",
    "            dictlist[i][col] = random.uniform(fltMin, fltMax)\n",
    "        elif coltype == \"string\":\n",
    "            dictlist[i][col] = ''.join(random.choices(strCharacters, k=intNumCharacters))\n",
    "        elif coltype == \"bool\":\n",
    "            dictlist[i][col] = random.choice([True, False])\n",
    "        elif coltype == \"date\":\n",
    "            dictlist[i][col] = dteMin + timedelta(days=random.randint(0, (dteMax - dteMin).days))\n",
    "\n",
    "# Write the dictionaries in dictlist to a file\n",
    "with open(fullfilename, \"w\", newline=\"\") as of:\n",
    "    of = csv.DictWriter(of, fieldnames=coltypes.keys(), dialect=\"excel\")\n",
    "\n",
    "    of.writeheader()\n",
    "    for li in dictlist:\n",
    "        of.writerow(li)"
   ]
  }
 ],
 "metadata": {
  "kernelspec": {
   "display_name": "Python 3",
   "language": "python",
   "name": "python3"
  },
  "language_info": {
   "codemirror_mode": {
    "name": "ipython",
    "version": 3
   },
   "file_extension": ".py",
   "mimetype": "text/x-python",
   "name": "python",
   "nbconvert_exporter": "python",
   "pygments_lexer": "ipython3",
   "version": "3.12.2"
  }
 },
 "nbformat": 4,
 "nbformat_minor": 2
}
